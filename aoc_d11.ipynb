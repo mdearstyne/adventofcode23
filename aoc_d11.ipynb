{
 "cells": [
  {
   "cell_type": "code",
   "execution_count": 13,
   "id": "b893bf63-26e9-436c-af80-2459851c83b3",
   "metadata": {},
   "outputs": [],
   "source": [
    "import numpy as np"
   ]
  },
  {
   "cell_type": "code",
   "execution_count": 95,
   "id": "c73f463b-e99b-4387-842f-00f1533df56d",
   "metadata": {},
   "outputs": [],
   "source": [
    "d = '''...#......\n",
    ".......#..\n",
    "#.........\n",
    "..........\n",
    "......#...\n",
    ".#........\n",
    ".........#\n",
    "..........\n",
    ".......#..\n",
    "#...#.....'''"
   ]
  },
  {
   "cell_type": "code",
   "execution_count": 113,
   "id": "229e58e8-6bca-4d59-837f-7057124a886f",
   "metadata": {},
   "outputs": [],
   "source": [
    "u = d.split('\\n')"
   ]
  },
  {
   "cell_type": "code",
   "execution_count": 115,
   "id": "5f0735fe-da5c-4133-96bc-8ad655ea70b4",
   "metadata": {},
   "outputs": [],
   "source": [
    "u = [list(r) for r in u]"
   ]
  },
  {
   "cell_type": "code",
   "execution_count": 117,
   "id": "89e854b5-cae3-4604-8821-bd8760f39c70",
   "metadata": {},
   "outputs": [],
   "source": [
    "u_arr = np.array(u)"
   ]
  },
  {
   "cell_type": "code",
   "execution_count": 119,
   "id": "7f11efe3-67b6-4dff-b605-7e34313d9155",
   "metadata": {},
   "outputs": [
    {
     "data": {
      "text/plain": [
       "[2, 5, 8]"
      ]
     },
     "execution_count": 119,
     "metadata": {},
     "output_type": "execute_result"
    }
   ],
   "source": [
    "empty_cols = []\n",
    "for i in range(u_arr.shape[1]):\n",
    "    if '#' not in u_arr[:,i]:\n",
    "        empty_cols.append(i)\n",
    "empty_cols"
   ]
  },
  {
   "cell_type": "code",
   "execution_count": 121,
   "id": "5b54c9a9-1329-49e9-a6df-a529d228a54e",
   "metadata": {},
   "outputs": [],
   "source": [
    "dots_column = np.full((u_arr.shape[0], 1), '.', dtype='<U1')\n",
    "u_arr = np.insert(u_arr, empty_cols, dots_column, axis=1)"
   ]
  },
  {
   "cell_type": "code",
   "execution_count": 123,
   "id": "74609bb5-a4f2-46f3-be29-960c71f281e8",
   "metadata": {},
   "outputs": [
    {
     "data": {
      "text/plain": [
       "[3, 7]"
      ]
     },
     "execution_count": 123,
     "metadata": {},
     "output_type": "execute_result"
    }
   ],
   "source": [
    "empty_rows = []\n",
    "for i in range(u_arr.shape[0]):\n",
    "    if '#' not in u_arr[i,:]:\n",
    "        empty_rows.append(i)\n",
    "empty_rows"
   ]
  },
  {
   "cell_type": "code",
   "execution_count": 125,
   "id": "11fef28d-3f0c-48db-b671-307966f4f07b",
   "metadata": {},
   "outputs": [
    {
     "ename": "ValueError",
     "evalue": "shape mismatch: value array of shape (16,1) could not be broadcast to indexing result of shape (2,16)",
     "output_type": "error",
     "traceback": [
      "\u001b[0;31m---------------------------------------------------------------------------\u001b[0m",
      "\u001b[0;31mValueError\u001b[0m                                Traceback (most recent call last)",
      "Cell \u001b[0;32mIn[125], line 4\u001b[0m\n\u001b[1;32m      2\u001b[0m u_arr \u001b[38;5;241m=\u001b[39m np\u001b[38;5;241m.\u001b[39minsert(u_arr, empty_cols, dots_column, axis\u001b[38;5;241m=\u001b[39m\u001b[38;5;241m1\u001b[39m)\n\u001b[1;32m      3\u001b[0m dots_column \u001b[38;5;241m=\u001b[39m np\u001b[38;5;241m.\u001b[39mfull((u_arr\u001b[38;5;241m.\u001b[39mshape[\u001b[38;5;241m1\u001b[39m], \u001b[38;5;241m1\u001b[39m), \u001b[38;5;124m'\u001b[39m\u001b[38;5;124m.\u001b[39m\u001b[38;5;124m'\u001b[39m, dtype\u001b[38;5;241m=\u001b[39m\u001b[38;5;124m'\u001b[39m\u001b[38;5;124m<U1\u001b[39m\u001b[38;5;124m'\u001b[39m)\n\u001b[0;32m----> 4\u001b[0m u_arr \u001b[38;5;241m=\u001b[39m np\u001b[38;5;241m.\u001b[39minsert(u_arr, empty_rows, dots_column, axis\u001b[38;5;241m=\u001b[39m\u001b[38;5;241m0\u001b[39m)\n",
      "File \u001b[0;32m<__array_function__ internals>:200\u001b[0m, in \u001b[0;36minsert\u001b[0;34m(*args, **kwargs)\u001b[0m\n",
      "File \u001b[0;32m/opt/conda/envs/anaconda-panel-2023.05-py310/lib/python3.11/site-packages/numpy/lib/function_base.py:5432\u001b[0m, in \u001b[0;36minsert\u001b[0;34m(arr, obj, values, axis)\u001b[0m\n\u001b[1;32m   5430\u001b[0m slobj[axis] \u001b[38;5;241m=\u001b[39m indices\n\u001b[1;32m   5431\u001b[0m slobj2[axis] \u001b[38;5;241m=\u001b[39m old_mask\n\u001b[0;32m-> 5432\u001b[0m new[\u001b[38;5;28mtuple\u001b[39m(slobj)] \u001b[38;5;241m=\u001b[39m values\n\u001b[1;32m   5433\u001b[0m new[\u001b[38;5;28mtuple\u001b[39m(slobj2)] \u001b[38;5;241m=\u001b[39m arr\n\u001b[1;32m   5435\u001b[0m \u001b[38;5;28;01mif\u001b[39;00m wrap:\n",
      "\u001b[0;31mValueError\u001b[0m: shape mismatch: value array of shape (16,1) could not be broadcast to indexing result of shape (2,16)"
     ]
    }
   ],
   "source": [
    "dots_column = np.full((u_arr.shape[0], 1), '.', dtype='<U1')\n",
    "u_arr = np.insert(u_arr, empty_cols, dots_column, axis=1)\n",
    "dots_column = np.full((u_arr.shape[1], 1), '.', dtype='<U1')\n",
    "u_arr = np.insert(u_arr, empty_rows, dots_column, axis=0)"
   ]
  },
  {
   "cell_type": "code",
   "execution_count": 91,
   "id": "3a20b9e9-9548-49d2-83ca-32fe05c8b9c3",
   "metadata": {},
   "outputs": [
    {
     "data": {
      "text/plain": [
       "array([['.', '.', '.', '.', '#', '.', '.', '.', '.', '.', '.', '.', '.'],\n",
       "       ['.', '.', '.', '.', '.', '.', '.', '.', '.', '#', '.', '.', '.'],\n",
       "       ['#', '.', '.', '.', '.', '.', '.', '.', '.', '.', '.', '.', '.'],\n",
       "       ['.', '.', '.', '.', '.', '.', '.', '.', '.', '.', '.', '.', '.'],\n",
       "       ['.', '.', '.', '.', '.', '.', '.', '.', '#', '.', '.', '.', '.'],\n",
       "       ['.', '#', '.', '.', '.', '.', '.', '.', '.', '.', '.', '.', '.'],\n",
       "       ['.', '.', '.', '.', '.', '.', '.', '.', '.', '.', '.', '.', '#'],\n",
       "       ['.', '.', '.', '.', '.', '.', '.', '.', '.', '.', '.', '.', '.'],\n",
       "       ['.', '.', '.', '.', '.', '.', '.', '.', '.', '#', '.', '.', '.'],\n",
       "       ['#', '.', '.', '.', '.', '#', '.', '.', '.', '.', '.', '.', '.']],\n",
       "      dtype='<U1')"
      ]
     },
     "execution_count": 91,
     "metadata": {},
     "output_type": "execute_result"
    }
   ],
   "source": []
  },
  {
   "cell_type": "code",
   "execution_count": null,
   "id": "72f31df4-c55e-4c33-aaff-c521262a66c7",
   "metadata": {},
   "outputs": [],
   "source": []
  }
 ],
 "metadata": {
  "kernelspec": {
   "display_name": "anaconda-panel-2023.05-py310",
   "language": "python",
   "name": "conda-env-anaconda-panel-2023.05-py310-py"
  },
  "language_info": {
   "codemirror_mode": {
    "name": "ipython",
    "version": 3
   },
   "file_extension": ".py",
   "mimetype": "text/x-python",
   "name": "python",
   "nbconvert_exporter": "python",
   "pygments_lexer": "ipython3",
   "version": "3.11.5"
  }
 },
 "nbformat": 4,
 "nbformat_minor": 5
}
