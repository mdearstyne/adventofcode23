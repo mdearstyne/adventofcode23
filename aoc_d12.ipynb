{
 "cells": [
  {
   "cell_type": "code",
   "execution_count": 1,
   "id": "05273697-852d-44d7-8d83-582b8b1d82ce",
   "metadata": {},
   "outputs": [],
   "source": [
    "import re\n",
    "from itertools import product"
   ]
  },
  {
   "cell_type": "code",
   "execution_count": 206,
   "id": "d06097ae-5c1e-4ca2-9cdb-11f7d0ae049a",
   "metadata": {},
   "outputs": [],
   "source": [
    "d = '''???.### 1,1,3\n",
    ".??..??...?##. 1,1,3\n",
    "?#?#?#?#?#?#?#? 1,3,1,6\n",
    "????.#...#... 4,1,1\n",
    "????.######..#####. 1,6,5\n",
    "?###???????? 3,2,1'''"
   ]
  },
  {
   "cell_type": "code",
   "execution_count": 186,
   "id": "f4171340-f3d5-49ce-9b31-75dc3992bcfd",
   "metadata": {},
   "outputs": [],
   "source": [
    "with open('input_d12') as f:\n",
    "    d = f.read()\n",
    "f.close()"
   ]
  },
  {
   "cell_type": "code",
   "execution_count": 208,
   "id": "dafe3684-1364-409c-90da-b1eb81719283",
   "metadata": {},
   "outputs": [],
   "source": [
    "d = d.split('\\n')"
   ]
  },
  {
   "cell_type": "code",
   "execution_count": 192,
   "id": "745244a4-0b1c-4c29-bd36-2eb7cb19abce",
   "metadata": {},
   "outputs": [],
   "source": [
    "d = d[:-1]"
   ]
  },
  {
   "cell_type": "code",
   "execution_count": 210,
   "id": "f9d40f8b-c944-4bfa-9ae7-b00ec5122baf",
   "metadata": {},
   "outputs": [],
   "source": [
    "d = [s.split(' ') for s in d]"
   ]
  },
  {
   "cell_type": "code",
   "execution_count": 212,
   "id": "80c6992c-1dfd-407a-a0d0-1a0948b11c66",
   "metadata": {},
   "outputs": [
    {
     "data": {
      "text/plain": [
       "[['???.###', '1,1,3'],\n",
       " ['.??..??...?##.', '1,1,3'],\n",
       " ['?#?#?#?#?#?#?#?', '1,3,1,6'],\n",
       " ['????.#...#...', '4,1,1'],\n",
       " ['????.######..#####.', '1,6,5'],\n",
       " ['?###????????', '3,2,1']]"
      ]
     },
     "execution_count": 212,
     "metadata": {},
     "output_type": "execute_result"
    }
   ],
   "source": [
    "d"
   ]
  },
  {
   "cell_type": "code",
   "execution_count": 200,
   "id": "eb9540b7-7d71-4e88-82af-5e2603b41539",
   "metadata": {},
   "outputs": [],
   "source": [
    "def get_springs(r):\n",
    "    e = r[0]\n",
    "    e_pattern = e.replace('.', '\\.')\n",
    "    e_pattern = e_pattern.replace('?', '[#.]')\n",
    "    \n",
    "    gaps = re.findall('\\.+', e)\n",
    "    gaps = [int(len(n)) for n in gaps]\n",
    "    #print(gaps)\n",
    "\n",
    "        \n",
    "    l = r[1].split(',')\n",
    "    l = [int(n) for n in l]\n",
    "    \n",
    "    #print(e, e_pattern, l)\n",
    "    \n",
    "    total_springs = sum(l)\n",
    "    groups_of_springs = len(l)\n",
    "\n",
    "    possibilities = list(product('.#', repeat=len(e)))\n",
    "    new_possibilities = []\n",
    "    for p in possibilities:\n",
    "        p = ''.join(p)\n",
    "        #print('Current possibility: ' + p)\n",
    "        if p.count('#') == total_springs and len(re.findall('\\#+', p)) == groups_of_springs:\n",
    "            if re.fullmatch(e_pattern, p):\n",
    "                if [len(m) for m in re.findall('#+', p)] == l:\n",
    "                    #print('Current possibility: ' + p)\n",
    "                    #print('Number of # in possibility matches total possible: ',  str(total_springs))\n",
    "                    #print('Current possibility matches pattern: ', e_pattern)\n",
    "                    #print('Grouping of possibility matches pattern: ', str(l))\n",
    "                    #print('---')\n",
    "                    new_possibilities.append(p)\n",
    "                #if [len(e) for e in re.findall('\\#+', ''.join(p))] == l:\n",
    "                    #p_gaps = re.findall('\\.+', ''.join(p))\n",
    "                    #if len(p_gaps) == len(gaps):\n",
    "                        #p_gaps = [int(len(n)) for n in p_gaps]\n",
    "                        #print(p_gaps, gaps, p_gaps <= gaps)\n",
    "    #print('Percent reduction: ' + str(round((len(possibilities)-len(new_possibilities))/len(possibilities)*100)) + '%')    \n",
    "    #print(new_possibilities)\n",
    "    return len(new_possibilities)\n",
    "    "
   ]
  },
  {
   "cell_type": "code",
   "execution_count": 214,
   "id": "f30af56c-34d6-43a2-a54f-db7cdd7aab81",
   "metadata": {},
   "outputs": [],
   "source": [
    "num_poss = []\n",
    "for r in d:\n",
    "    num_poss.append(get_springs(r))"
   ]
  },
  {
   "cell_type": "code",
   "execution_count": 216,
   "id": "f7c47e7d-65eb-429a-8984-d03dc993f812",
   "metadata": {},
   "outputs": [
    {
     "data": {
      "text/plain": [
       "21"
      ]
     },
     "execution_count": 216,
     "metadata": {},
     "output_type": "execute_result"
    }
   ],
   "source": [
    "sum(num_poss)"
   ]
  },
  {
   "cell_type": "code",
   "execution_count": 218,
   "id": "23a1c0c0-2a57-47fe-b1dc-9232502407fc",
   "metadata": {},
   "outputs": [
    {
     "name": "stdout",
     "output_type": "stream",
     "text": [
      "['???.###', '1,1,3']\n",
      "['.??..??...?##.', '1,1,3']\n",
      "['?#?#?#?#?#?#?#?', '1,3,1,6']\n",
      "['????.#...#...', '4,1,1']\n",
      "['????.######..#####.', '1,6,5']\n",
      "['?###????????', '3,2,1']\n"
     ]
    }
   ],
   "source": [
    "# Part 2\n",
    "for r in d:\n",
    "    print(r)"
   ]
  },
  {
   "cell_type": "code",
   "execution_count": 238,
   "id": "541caed3-9d03-4e64-93e7-6ab47aac850d",
   "metadata": {},
   "outputs": [
    {
     "data": {
      "text/plain": [
       "[['???.###????.###????.###????.###????.###', '1,1,3,1,1,3,1,1,3,1,1,3,1,1,3'],\n",
       " ['.??..??...?##.?.??..??...?##.?.??..??...?##.?.??..??...?##.?.??..??...?##.',\n",
       "  '1,1,3,1,1,3,1,1,3,1,1,3,1,1,3'],\n",
       " ['?#?#?#?#?#?#?#???#?#?#?#?#?#?#???#?#?#?#?#?#?#???#?#?#?#?#?#?#???#?#?#?#?#?#?#?',\n",
       "  '1,3,1,6,1,3,1,6,1,3,1,6,1,3,1,6,1,3,1,6'],\n",
       " ['????.#...#...?????.#...#...?????.#...#...?????.#...#...?????.#...#...',\n",
       "  '4,1,1,4,1,1,4,1,1,4,1,1,4,1,1'],\n",
       " ['????.######..#####.?????.######..#####.?????.######..#####.?????.######..#####.?????.######..#####.',\n",
       "  '1,6,5,1,6,5,1,6,5,1,6,5,1,6,5'],\n",
       " ['?###??????????###??????????###??????????###??????????###????????',\n",
       "  '3,2,1,3,2,1,3,2,1,3,2,1,3,2,1']]"
      ]
     },
     "execution_count": 238,
     "metadata": {},
     "output_type": "execute_result"
    }
   ],
   "source": [
    "new_d = []\n",
    "for i in range(len(d)):\n",
    "    r = d[i]\n",
    "    e = r[0]\n",
    "    l = r[1]\n",
    "    new_e = ((e+'?')*5)[:-1]\n",
    "    new_l = ((l+',')*5)[:-1]\n",
    "    new_d.append([new_e, new_l])"
   ]
  },
  {
   "cell_type": "code",
   "execution_count": 2,
   "id": "d8dae7bc-c07b-46b9-8890-fd70c2a6fdc7",
   "metadata": {},
   "outputs": [
    {
     "ename": "NameError",
     "evalue": "name 'new_d' is not defined",
     "output_type": "error",
     "traceback": [
      "\u001b[0;31m---------------------------------------------------------------------------\u001b[0m",
      "\u001b[0;31mNameError\u001b[0m                                 Traceback (most recent call last)",
      "Cell \u001b[0;32mIn[2], line 2\u001b[0m\n\u001b[1;32m      1\u001b[0m num_poss \u001b[38;5;241m=\u001b[39m []\n\u001b[0;32m----> 2\u001b[0m \u001b[38;5;28;01mfor\u001b[39;00m r \u001b[38;5;129;01min\u001b[39;00m new_d:\n\u001b[1;32m      3\u001b[0m     num_poss\u001b[38;5;241m.\u001b[39mappend(get_springs(r))\n",
      "\u001b[0;31mNameError\u001b[0m: name 'new_d' is not defined"
     ]
    }
   ],
   "source": [
    "num_poss = []\n",
    "for r in new_d:\n",
    "    num_poss.append(get_springs(r))"
   ]
  },
  {
   "cell_type": "code",
   "execution_count": null,
   "id": "60b32517-b0a3-4957-9b8d-c50903290b8f",
   "metadata": {},
   "outputs": [],
   "source": []
  }
 ],
 "metadata": {
  "kernelspec": {
   "display_name": "anaconda-panel-2023.05-py310",
   "language": "python",
   "name": "conda-env-anaconda-panel-2023.05-py310-py"
  },
  "language_info": {
   "codemirror_mode": {
    "name": "ipython",
    "version": 3
   },
   "file_extension": ".py",
   "mimetype": "text/x-python",
   "name": "python",
   "nbconvert_exporter": "python",
   "pygments_lexer": "ipython3",
   "version": "3.11.5"
  }
 },
 "nbformat": 4,
 "nbformat_minor": 5
}
